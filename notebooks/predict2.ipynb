{
 "cells": [
  {
   "cell_type": "code",
   "execution_count": 32,
   "metadata": {},
   "outputs": [],
   "source": [
    "import os\n",
    "import pandas as pd\n",
    "import numpy as np\n",
    "import torch\n",
    "import torch.optim as optim\n",
    "from sklearn.model_selection import train_test_split\n",
    "from function import *\n",
    "from function_preparation import *"
   ]
  },
  {
   "cell_type": "markdown",
   "metadata": {},
   "source": [
    "1. Data Preparation"
   ]
  },
  {
   "cell_type": "markdown",
   "metadata": {},
   "source": [
    "#1.1 Xử lý df"
   ]
  },
  {
   "cell_type": "code",
   "execution_count": 33,
   "metadata": {},
   "outputs": [
    {
     "name": "stdout",
     "output_type": "stream",
     "text": [
      "         Open     High      Low    Close      Volume  Quote Volume  \\\n",
      "0     1576.70  1577.00  1573.67  1576.03   5061.7066  7.973899e+06   \n",
      "1     1576.03  1589.74  1576.03  1584.64  15733.8816  2.493128e+07   \n",
      "2     1584.64  1597.50  1584.63  1590.61  17918.3936  2.853673e+07   \n",
      "3     1590.61  1595.08  1588.08  1592.46   6730.2225  1.070817e+07   \n",
      "4     1592.46  1594.00  1590.85  1591.28   3590.0051  5.716626e+06   \n",
      "...       ...      ...      ...      ...         ...           ...   \n",
      "8709  2580.15  2584.77  2572.05  2580.59   7885.5562  2.035016e+07   \n",
      "8710  2580.59  2585.53  2575.12  2581.17   4044.7767  1.043823e+07   \n",
      "8711  2581.17  2588.00  2566.19  2570.70  12832.4517  3.304580e+07   \n",
      "8712  2570.70  2574.60  2554.82  2564.04  13095.4564  3.358454e+07   \n",
      "8713  2564.04  2576.20  2562.24  2571.82   4115.0255  1.057446e+07   \n",
      "\n",
      "      Number of Trades  Taker Buy Base Volume  Taker Buy Quote Volume  \\\n",
      "0                15379              2692.3562            4.241202e+06   \n",
      "1                30653              8215.4748            1.301425e+07   \n",
      "2                28680              9124.4044            1.453009e+07   \n",
      "3                15721              3277.7818            5.214535e+06   \n",
      "4                 9593              1529.7614            2.435824e+06   \n",
      "...                ...                    ...                     ...   \n",
      "8709             61939              4021.3146            1.037863e+07   \n",
      "8710             45180              2112.3441            5.451533e+06   \n",
      "8711             86826              4149.7031            1.068716e+07   \n",
      "8712            130807              5677.9491            1.456298e+07   \n",
      "8713             64602              2141.6666            5.503734e+06   \n",
      "\n",
      "        SMA_10  ...    -DM     TR  +DM_Smoothed  -DM_Smoothed  TR_Smoothed  \\\n",
      "0     1575.486  ...   0.00   3.33      1.094286      1.240714     6.518571   \n",
      "1     1576.313  ...   0.00  13.71      1.501429      1.240714     6.573571   \n",
      "2     1577.517  ...   0.00  12.87      2.055714      1.232857     7.045714   \n",
      "3     1578.638  ...   0.00   7.00      2.000000      1.232857     7.215714   \n",
      "4     1579.927  ...   0.00   3.15      2.000000      1.067857     7.057857   \n",
      "...        ...  ...    ...    ...           ...           ...          ...   \n",
      "8709  2587.397  ...   0.00  12.72      6.195714      3.645714    18.799286   \n",
      "8710  2586.043  ...   0.00  10.41      5.599286      3.645714    18.385714   \n",
      "8711  2583.642  ...   8.93  21.81      2.232143      4.283571    16.394286   \n",
      "8712  2580.184  ...  11.37  19.78      1.572857      5.095714    15.827857   \n",
      "8713  2579.160  ...   0.00  13.96      1.687143      4.767143    15.321429   \n",
      "\n",
      "            +DI        -DI         DX     ADX_14          SAR  \n",
      "0     16.787201  19.033531   6.271031  42.715306  1578.710862  \n",
      "1     22.840378  18.874280   9.507684  40.667456  1563.010000  \n",
      "2     29.176805  17.497972  25.021720  39.552974  1563.544600  \n",
      "3     27.717284  17.085726  23.729563  38.396797  1564.902816  \n",
      "4     28.337213  15.130048  30.384168  37.555687  1566.206703  \n",
      "...         ...        ...        ...        ...          ...  \n",
      "8709  32.957179  19.392834  25.910872  39.036835  2628.915344  \n",
      "8710  30.454545  19.829060  21.131113  38.387942  2626.543130  \n",
      "8711  13.615371  26.128442  31.484324  36.243827  2624.265805  \n",
      "8712   9.937272  32.194594  52.827763  35.297201  2620.781257  \n",
      "8713  11.011655  31.114219  47.720230  34.507333  2615.504356  \n",
      "\n",
      "[8714 rows x 34 columns]\n"
     ]
    }
   ],
   "source": [
    "eth_path = r\"E:\\MyPythonCode\\Crypto\\data\\csv\\binance_ETHUSDT.csv\"\n",
    "df = pd.read_csv(eth_path)\n",
    "df['Open Time'] = pd.to_datetime(df['Open Time'], unit='ms')\n",
    "df = df.resample('1h', on='Open Time').agg({\n",
    "    'Open': 'first',\n",
    "    'High': 'max',\n",
    "    'Low': 'min',\n",
    "    'Close': 'last',\n",
    "    'Volume': 'sum',\n",
    "    'Quote Volume': 'sum',\n",
    "    'Number of Trades': 'sum',\n",
    "    'Taker Buy Base Volume': 'sum',\n",
    "    'Taker Buy Quote Volume': 'sum',\n",
    "}).dropna()\n",
    "df['SMA_10'] = calculate_sma(df, period=10)\n",
    "df['EMA_10'] = calculate_ema(df, period=10)\n",
    "df['RSI_14'] = calculate_rsi(df, period=14)\n",
    "df['MACD'], df['Signal_Line'] = calculate_macd(df)\n",
    "df['Bollinger_Upper'], df['Bollinger_Lower'] = calculate_bollinger_bands(df, period=20)\n",
    "df['ATR'] = calculate_atr(df, period=14)\n",
    "df['Stochastic_Oscillator'] = calculate_stochastic_oscillator(df, period=14)\n",
    "df['OBV'] = calculate_obv(df)\n",
    "df['ROC'] = calculate_roc(df, period=12)\n",
    "df['CMF'] = calculate_cmf(df, period=20)\n",
    "df['ADX_14'] = calculate_adx(df, period=14)\n",
    "df['SAR'] = calculate_sar(df, acceleration=0.02, maximum=0.2)\n",
    "df = df.dropna()\n",
    "df = df.iloc[20:].reset_index(drop=True)\n",
    "print(df)\n",
    "# df.to_excel('file_name.xlsx', index=False)"
   ]
  },
  {
   "cell_type": "markdown",
   "metadata": {},
   "source": [
    "#1.2 Tạo đầu vào cho mô hình"
   ]
  },
  {
   "cell_type": "code",
   "execution_count": 34,
   "metadata": {},
   "outputs": [],
   "source": [
    "timesteps = 24*7 \n",
    "X = []\n",
    "y = []"
   ]
  },
  {
   "cell_type": "code",
   "execution_count": 35,
   "metadata": {},
   "outputs": [
    {
     "name": "stdout",
     "output_type": "stream",
     "text": [
      "X shape: (8546, 168, 34)\n",
      "y shape: (8546,)\n",
      "Train shape: (6836, 168, 34), Val shape: (1281, 168, 34), Test shape: (429, 168, 34)\n",
      "Sau khi reshape cho phù hợp mới MachineLearning\n",
      "Train shape: (6836, 5712), Val shape: (1281, 5712), Test shape: (429, 5712)\n"
     ]
    }
   ],
   "source": [
    "for i in range(len(df) - timesteps):\n",
    "    # Giống như việc quét chọn 1 khu vực trong bảng tính, chỉ định index từ đâu đến đâu    \n",
    "\n",
    "    # Lấy các cột đặc trưng làm X\n",
    "    X.append(df.iloc[i:i+timesteps].values)  \n",
    "    # Tất cả cột là đầu vào\n",
    "    # *** Giải thích ***\n",
    "    # [tức là lấy hàng từ (i) đến (i+timesteps-1), và cột giá trị là cả df\n",
    "        \n",
    "    # Lấy cột 'Label' ở vị trí i+timesteps làm y\n",
    "    y.append(df.iloc[i+timesteps]['Close'])  \n",
    "    # *** Giải thích ***\n",
    "    # [tức là lấy hàng (i+timesteps), và cột giá trị là 'Close']\n",
    "\n",
    "X, y = np.array(X), np.array(y)\n",
    "print_comboXy_shape(X, y)\n",
    "\n",
    "# Chia dữ liệu thành train (70%), validation (15%), và test (15%)\n",
    "train_size = int(0.8 * len(X))\n",
    "val_size = int(0.15 * len(X))\n",
    "test_size = len(X) - train_size - val_size\n",
    "\n",
    "# Chia ra train, validation, và test\n",
    "X_train, X_temp, y_train, y_temp = train_test_split(X, y, test_size=(val_size + test_size), shuffle=False)\n",
    "X_val, X_test, y_val, y_test = train_test_split(X_temp, y_temp, test_size=test_size, shuffle=False)\n",
    "print(f'Train shape: {X_train.shape}, Val shape: {X_val.shape}, Test shape: {X_test.shape}')\n",
    "\n",
    "# Reshape X_train, X_val, X_test từ 3D sang 2D\n",
    "X_train = X_train.reshape(X_train.shape[0], -1)\n",
    "X_val = X_val.reshape(X_val.shape[0], -1)\n",
    "X_test= X_test.reshape(X_test.shape[0], -1)\n",
    "\n",
    "# Kiểm tra lại shape\n",
    "print(\"Sau khi reshape cho phù hợp mới MachineLearning\")\n",
    "print(f'Train shape: {X_train.shape}, Val shape: {X_val.shape}, Test shape: {X_test.shape}')\n"
   ]
  },
  {
   "cell_type": "markdown",
   "metadata": {},
   "source": [
    "2. Dùng Random-Forest thủ công"
   ]
  },
  {
   "cell_type": "code",
   "execution_count": 36,
   "metadata": {},
   "outputs": [],
   "source": [
    "from classML import *\n",
    "from sklearn.model_selection import cross_val_score\n",
    "from sklearn.ensemble import RandomForestRegressor\n",
    "from sklearn.metrics import accuracy_score, precision_score, recall_score, f1_score, mean_squared_error\n",
    "from sklearn.metrics import mean_absolute_error"
   ]
  },
  {
   "cell_type": "markdown",
   "metadata": {},
   "source": [
    "2.1 Khởi tạo RF với khả năng tái huấn luyện (warm_start=True)"
   ]
  },
  {
   "cell_type": "code",
   "execution_count": 37,
   "metadata": {},
   "outputs": [],
   "source": [
    "RF = RandomForestRegressor(n_estimators=100, max_depth=6, warm_start=True)"
   ]
  },
  {
   "cell_type": "markdown",
   "metadata": {},
   "source": [
    "2.2 Train như bình thường"
   ]
  },
  {
   "cell_type": "code",
   "execution_count": 38,
   "metadata": {},
   "outputs": [
    {
     "data": {
      "text/plain": [
       "['modelsML\\\\random_forest_with_warm_start.pkl']"
      ]
     },
     "execution_count": 38,
     "metadata": {},
     "output_type": "execute_result"
    }
   ],
   "source": [
    "RF.fit(X_train, y_train)\n",
    "savepath = 'modelsML\\\\random_forest_with_warm_start.pkl'\n",
    "joblib.dump(RF, savepath)"
   ]
  },
  {
   "cell_type": "markdown",
   "metadata": {},
   "source": [
    "2.3 Dự đoán và đánh giá độ chính xác (Step: evaluate)"
   ]
  },
  {
   "cell_type": "code",
   "execution_count": 40,
   "metadata": {},
   "outputs": [],
   "source": [
    "#2.3.1 Tải lại mô hình từ tệp\n",
    "RF_loaded = joblib.load(savepath)"
   ]
  },
  {
   "cell_type": "code",
   "execution_count": 41,
   "metadata": {},
   "outputs": [],
   "source": [
    "#2.3.2 Chọn bộ dữ liệu để test\n",
    "mode = 'test'\n",
    "if mode == 'test':\n",
    "    checkX = X_test\n",
    "    checky = y_test\n",
    "else:\n",
    "    checkX = X_val\n",
    "    checky = y_val"
   ]
  },
  {
   "cell_type": "code",
   "execution_count": 42,
   "metadata": {},
   "outputs": [
    {
     "name": "stdout",
     "output_type": "stream",
     "text": [
      "Trung bình bình phương của sai số:  242.61472883056481\n",
      "Sai số thực tế (with outliers):  15.576094787544303\n",
      "Sai số trung bình (without outliers):  11.91908751452804\n"
     ]
    },
    {
     "name": "stderr",
     "output_type": "stream",
     "text": [
      "e:\\MyPythonCode\\Crypto\\.venv\\Lib\\site-packages\\sklearn\\metrics\\_regression.py:492: FutureWarning: 'squared' is deprecated in version 1.4 and will be removed in 1.6. To calculate the root mean squared error, use the function'root_mean_squared_error'.\n",
      "  warnings.warn(\n"
     ]
    }
   ],
   "source": [
    "#2.3.3 Thay thế cặp X_test, y_test thành X_val, y_val\n",
    "y_pred = RF_loaded.predict(checkX)        \n",
    "                \n",
    "# Kiểm tra hiệu suất của mô hình\n",
    "mse = mean_squared_error(checky, y_pred)\n",
    "rmse = mean_squared_error(checky, y_pred, squared=False)\n",
    "mae = mean_absolute_error(checky, y_pred)\n",
    "print(\"Trung bình bình phương của sai số: \", mse)\n",
    "print(\"Sai số thực tế (with outliers): \", rmse)\n",
    "print(\"Sai số trung bình (without outliers): \", mae)"
   ]
  },
  {
   "cell_type": "markdown",
   "metadata": {},
   "source": [
    "2.4 Retrain nếu chưa đủ tốt"
   ]
  },
  {
   "cell_type": "markdown",
   "metadata": {},
   "source": [
    "# Lưu ý:\n",
    "chỉ thêm các cây khác vào models chứ không thay đổi các cây cũ"
   ]
  },
  {
   "cell_type": "code",
   "execution_count": 39,
   "metadata": {},
   "outputs": [],
   "source": [
    "#2.4.1 Tải lại mô hình từ tệp\n",
    "RF_loaded = joblib.load(savepath)"
   ]
  },
  {
   "cell_type": "code",
   "execution_count": null,
   "metadata": {},
   "outputs": [],
   "source": [
    "# Tăng số lượng cây trong rừng\n",
    "RF_loaded.n_estimators += 50  # Thêm 50 cây nữa\n",
    "RF_loaded.fit(X_train, y_train)  # Tiếp tục huấn luyện"
   ]
  },
  {
   "cell_type": "markdown",
   "metadata": {},
   "source": [
    "2.5 Lặp lại bước 2.3, nhưng với model RF mới cải tiến"
   ]
  }
 ],
 "metadata": {
  "kernelspec": {
   "display_name": ".venv",
   "language": "python",
   "name": "python3"
  },
  "language_info": {
   "codemirror_mode": {
    "name": "ipython",
    "version": 3
   },
   "file_extension": ".py",
   "mimetype": "text/x-python",
   "name": "python",
   "nbconvert_exporter": "python",
   "pygments_lexer": "ipython3",
   "version": "3.12.3"
  }
 },
 "nbformat": 4,
 "nbformat_minor": 2
}
